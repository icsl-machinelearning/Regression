{
 "cells": [
  {
   "cell_type": "code",
   "execution_count": 1,
   "metadata": {
    "scrolled": true
   },
   "outputs": [
    {
     "data": {
      "text/html": [
       "<iframe id=\"test\" name=\"id_name\" width=\"950\" height=\"600\" frameborder=\"0\" marginwidth=\"0\" marginheight=\"0\" scrolling=\"yes\" src=\"https://cpuu.postype.com/post/161789\"></iframe>\n"
      ],
      "text/plain": [
       "<IPython.core.display.HTML object>"
      ]
     },
     "metadata": {},
     "output_type": "display_data"
    }
   ],
   "source": [
    "%%HTML\n",
    "<iframe id=\"test\" name=\"id_name\" width=\"950\" height=\"600\" frameborder=\"0\" marginwidth=\"0\" marginheight=\"0\" scrolling=\"yes\" src=\"https://cpuu.postype.com/post/161789\"></iframe>"
   ]
  },
  {
   "cell_type": "code",
   "execution_count": 2,
   "metadata": {},
   "outputs": [],
   "source": [
    "import tensorflow as tf\n",
    "import matplotlib.pyplot as plt\n",
    "##보통 데이터 종류가 많음. 여기에서는 임의로 10개의 데이터를 줌.\n",
    "x_data = [4.0391, 1.3197, 9.5613, 0.5978, 3.5316, 0.1540, 1.6899, 7.3172, 4.5092, 2.9632]\n",
    "y_data = [11.4215, 10.0112, 30.2991, 1.0625, 13.1776, -3.1976, 6.7367, 23.8550, 14.8951, 11.6137]\n",
    "\n",
    "##사람이 정답의 대략적인 범위를 추정할 수 있는 경우에 문제를 풀이하기 쉽도록(노가다 횟수 줄이도록)...\n",
    "##변수의 범위를 지정할수 있음. 우리가 구하고자하는 값 W, b\n",
    "##초기값으로 -5~ 5 사이에서 랜덤\n",
    "W = tf.Variable(tf.random_uniform([1], -5.0, 5.0))\n",
    "b = tf.Variable(tf.random_uniform([1], -5.0, 5.0))\n",
    "\n",
    "##placeholer형, 선언과 동시에 초기화 되는 것이 아니라 선언 후 값이 전달되는 자료형\n",
    "##보통 입력값을 말한다.\n",
    "##다른 텐서(Tensor)를 placeholer에 맵핑시킴으로써 값이 전달된다.\n",
    "X = tf.placeholder(tf.float32)\n",
    "Y = tf.placeholder(tf.float32)\n",
    "\n",
    "##가설(1차방정식)\n",
    "hypothesis = W * X + b\n",
    "\n",
    "##최소제곱법, reduce_mean 과 mean의 차이- mean은 결과데이터의 형태 지정함.\n",
    "##defualt형태는 float64형태, 그러나 reduce_mean의 경우 입력 데이터의 형태에 따라\n",
    "##바뀐다\n",
    "## x = tf.constant([1, 0, 1, 0])\n",
    "## tf.reduce_mean(x)  # 0\n",
    "## y = tf.constant([1., 0., 1., 0.])\n",
    "## tf.reduce_mean(y)  # 0.5\n",
    "cost = tf.reduce_mean(tf.square(hypothesis - Y))"
   ]
  },
  {
   "cell_type": "code",
   "execution_count": 3,
   "metadata": {},
   "outputs": [
    {
     "name": "stdout",
     "output_type": "stream",
     "text": [
      "Tensor(\"add:0\", dtype=float32)\n",
      "<tf.Variable 'Variable:0' shape=(1,) dtype=float32_ref>\n",
      "Tensor(\"Placeholder_1:0\", dtype=float32)\n",
      "<tf.Variable 'Variable:0' shape=(1,) dtype=float32_ref>\n",
      "Tensor(\"Mean:0\", shape=(), dtype=float32)\n"
     ]
    }
   ],
   "source": [
    "#자료형 확인\n",
    "print(hypothesis)\n",
    "print(W)\n",
    "print(Y)\n",
    "print(W)\n",
    "print(cost)"
   ]
  },
  {
   "cell_type": "code",
   "execution_count": 4,
   "metadata": {},
   "outputs": [],
   "source": [
    "##Learning rate 0.01로 할당\n",
    "#a = tf.Variable(0.01)\n",
    "a=tf.constant(0.01)\n",
    "\n",
    "##train = tf.train.GradientDescentOptimizer(a).minimize(cost)로 줄여서 사용가능\n",
    "optimizer = tf.train.GradientDescentOptimizer(a)\n",
    "train = optimizer.minimize(cost)\n",
    "\n",
    "#init은 모든 variable=텐서를 가리키는 노드(operation) 집합.\n",
    "##tf.initialize_all_variables will be removed after 2017-03-02.\n",
    "##Use `tf.global_variables_initializer` instead.\n",
    "#init = tf.initialize_all_variables()\n",
    "init = tf.global_variables_initializer()\n",
    "\n",
    "\n",
    "##Session에서 연산 끝났으면, 자원을 시스템에 돌려주기 위하여 sess.close()를 통해 닫아야함.\n",
    "## with tf.Session() as sess:로 대체 가능하고 이경우 자동으로 세션 닫힘.\n",
    "##with tf.Session() as sess:\n",
    "##  result = sess.run([product])\n",
    "##  print(result)\n",
    "\n",
    "##Session에 () 빈칸이 옴(아무 파라미터도 넘기지 않음)--> 기본 로컬세션에서 수행됨.\n",
    "##즉, 세션을 실행하자마자, 모든 tf.variable 인스턴스들이 호출되어 초기화됨.\n",
    "sess = tf.Session()\n",
    "\n",
    "writer = tf.summary.FileWriter('./logs/basic_regression',sess.graph)\n",
    "\n",
    "\n",
    "##텐서플로우에서 변수형 variable은 그래프를 실행하기 전에 초기화를 해줘야 그 값이 변수에\n",
    "##지정이 된다. 따라서 세션을 초기화하는 순간 W,b에 값이 지정됨.\n",
    "sess.run(init)"
   ]
  },
  {
   "cell_type": "code",
   "execution_count": 5,
   "metadata": {},
   "outputs": [
    {
     "name": "stdout",
     "output_type": "stream",
     "text": [
      "0 45.992813 [1.2865164] [3.9886732]\n",
      "20 9.317688 [2.6401935] [3.7131557]\n",
      "40 8.378372 [2.7149343] [3.2858038]\n",
      "60 7.6839037 [2.7791848] [2.9183447]\n",
      "80 7.1704583 [2.83443] [2.6023865]\n",
      "100 6.790849 [2.8819327] [2.3307106]\n",
      "120 6.5101905 [2.9227777] [2.097111]\n",
      "140 6.30269 [2.9578981] [1.8962514]\n",
      "160 6.149276 [2.9880962] [1.7235428]\n",
      "180 6.0358524 [3.014062] [1.5750397]\n",
      "200 5.951993 [3.0363886] [1.4473495]\n",
      "220 5.8899946 [3.055586] [1.3375562]\n",
      "240 5.844156 [3.0720928] [1.2431506]\n",
      "260 5.8102674 [3.0862863] [1.1619763]\n",
      "280 5.7852106 [3.0984902] [1.0921791]\n",
      "300 5.766686 [3.108984] [1.0321641]\n",
      "320 5.7529893 [3.118007] [0.9805602]\n",
      "340 5.742863 [3.1257653] [0.9361887]\n",
      "360 5.735376 [3.1324363] [0.89803624]\n",
      "380 5.7298417 [3.1381721] [0.8652309]\n",
      "400 5.725749 [3.1431043] [0.8370234]\n",
      "420 5.722724 [3.1473453] [0.81276906]\n",
      "440 5.7204866 [3.1509917] [0.79191405]\n",
      "460 5.718833 [3.1541271] [0.7739821]\n",
      "480 5.717611 [3.1568232] [0.7585633]\n",
      "500 5.7167063 [3.159141] [0.7453055]\n",
      "520 5.716038 [3.1611345] [0.73390585]\n",
      "540 5.7155433 [3.1628482] [0.7241039]\n",
      "560 5.7151785 [3.164322] [0.7156757]\n",
      "580 5.714908 [3.165589] [0.70842874]\n",
      "600 5.7147083 [3.1666787] [0.70219743]\n",
      "620 5.7145605 [3.1676154] [0.6968396]\n",
      "640 5.7144513 [3.1684208] [0.69223267]\n",
      "660 5.7143717 [3.1691136] [0.6882713]\n",
      "680 5.7143106 [3.1697092] [0.68486524]\n",
      "700 5.714267 [3.1702213] [0.68193656]\n",
      "720 5.714235 [3.1706617] [0.67941827]\n",
      "740 5.7142105 [3.1710403] [0.6772529]\n",
      "760 5.7141924 [3.1713657] [0.6753911]\n",
      "780 5.714179 [3.1716456] [0.6737903]\n",
      "800 5.7141695 [3.1718862] [0.67241377]\n",
      "820 5.7141623 [3.1720932] [0.67123014]\n",
      "840 5.714158 [3.1722713] [0.67021245]\n",
      "860 5.714154 [3.1724243] [0.6693373]\n",
      "880 5.71415 [3.172556] [0.66858494]\n",
      "900 5.7141485 [3.1726687] [0.6679381]\n",
      "920 5.7141466 [3.1727662] [0.6673817]\n",
      "940 5.7141447 [3.17285] [0.6669033]\n",
      "960 5.714145 [3.1729217] [0.666492]\n",
      "980 5.7141447 [3.1729834] [0.6661384]\n",
      "1000 5.714144 [3.1730368] [0.6658342]\n",
      "1020 5.714143 [3.1730826] [0.6655727]\n",
      "1040 5.714143 [3.173122] [0.6653477]\n",
      "1060 5.714143 [3.1731558] [0.6651544]\n",
      "1080 5.7141423 [3.1731849] [0.664988]\n",
      "1100 5.714142 [3.1732097] [0.6648451]\n",
      "1120 5.714143 [3.1732311] [0.6647222]\n",
      "1140 5.7141423 [3.1732497] [0.6646166]\n",
      "1160 5.7141414 [3.1732655] [0.66452575]\n",
      "1180 5.714143 [3.1732793] [0.66444767]\n",
      "1200 5.714141 [3.173291] [0.6643805]\n",
      "1220 5.714143 [3.173301] [0.66432285]\n",
      "1240 5.7141414 [3.1733098] [0.6642731]\n",
      "1260 5.7141423 [3.1733172] [0.6642304]\n",
      "1280 5.714143 [3.1733236] [0.6641938]\n",
      "1300 5.714142 [3.173329] [0.6641623]\n",
      "1320 5.7141423 [3.173334] [0.6641352]\n",
      "1340 5.7141423 [3.1733382] [0.66411173]\n",
      "1360 5.714142 [3.1733415] [0.66409165]\n",
      "1380 5.714143 [3.1733444] [0.66407436]\n",
      "1400 5.7141423 [3.173347] [0.6640596]\n",
      "1420 5.7141423 [3.1733491] [0.6640469]\n",
      "1440 5.7141423 [3.1733513] [0.664036]\n",
      "1460 5.714143 [3.1733527] [0.6640266]\n",
      "1480 5.7141423 [3.1733541] [0.6640186]\n",
      "1500 5.7141423 [3.1733553] [0.66401166]\n",
      "1520 5.7141423 [3.1733565] [0.6640057]\n",
      "1540 5.7141423 [3.1733572] [0.6640007]\n",
      "1560 5.7141414 [3.1733582] [0.6639963]\n",
      "1580 5.7141423 [3.173359] [0.66399264]\n",
      "1600 5.7141423 [3.1733592] [0.6639892]\n",
      "1620 5.7141423 [3.1733596] [0.6639868]\n",
      "1640 5.714143 [3.17336] [0.6639844]\n",
      "1660 5.7141423 [3.1733603] [0.66398215]\n",
      "1680 5.7141414 [3.1733608] [0.6639808]\n",
      "1700 5.714142 [3.1733608] [0.6639796]\n",
      "1720 5.714142 [3.173361] [0.6639784]\n",
      "1740 5.714143 [3.1733613] [0.6639772]\n",
      "1760 5.714142 [3.1733615] [0.663976]\n",
      "1780 5.7141414 [3.1733618] [0.6639748]\n",
      "1800 5.714142 [3.1733618] [0.6639742]\n",
      "1820 5.714142 [3.1733618] [0.6639742]\n",
      "1840 5.714142 [3.1733618] [0.6639742]\n",
      "1860 5.714142 [3.1733618] [0.6639742]\n",
      "1880 5.714142 [3.1733618] [0.6639742]\n",
      "1900 5.714142 [3.1733618] [0.6639742]\n",
      "1920 5.714142 [3.1733618] [0.6639742]\n",
      "1940 5.714142 [3.1733618] [0.6639742]\n",
      "1960 5.714142 [3.1733618] [0.6639742]\n",
      "1980 5.714142 [3.1733618] [0.6639742]\n",
      "2000 5.714142 [3.1733618] [0.6639742]\n",
      "When X=5, hypothesis = [16.530783]\n"
     ]
    }
   ],
   "source": [
    "#feed_dict를 통해 본인이 지정하는 특정한 값을 파라미터로 전달해줄수 있음.\n",
    "#실행할 노드는 train이고, 입력값으로 x_data, y_daya를 넣음.\n",
    "for step in range(2001):\n",
    "    sess.run(train, feed_dict={X:x_data, Y:y_data})\n",
    "    if step % 20 == 0:\n",
    "        print(step, sess.run(cost, feed_dict={X:x_data, Y:y_data}), sess.run(W), sess.run(b))\n",
    "\n",
    "##평가,실행할 노드는 hypothesis이고, x는 5를 대입.\n",
    "answer = sess.run(hypothesis, feed_dict={X:5})\n",
    "print('When X=5, hypothesis = ' + str(answer))"
   ]
  },
  {
   "cell_type": "code",
   "execution_count": 6,
   "metadata": {},
   "outputs": [
    {
     "data": {
      "image/png": "[encoded data removed]",
      "text/plain": [
       "<Figure size 432x288 with 1 Axes>"
      ]
     },
     "metadata": {
      "needs_background": "light"
     },
     "output_type": "display_data"
    }
   ],
   "source": [
    "# Show the linear regression result\n",
    "plt.figure(1)\n",
    "plt.title('Linear Regression')\n",
    "plt.xlabel('x')\n",
    "plt.ylabel('y')\n",
    "# 주어진 데이터들을 점으로 표시\n",
    "plt.plot(x_data, y_data, 'ro')\n",
    "# 예측한 일차함수를 직선으로 표시\n",
    "plt.plot(x_data, sess.run(W) * x_data + sess.run(b), 'b')\n",
    "# X=5 일때의 계산 값\n",
    "plt.plot([5], answer, 'go')\n",
    "plt.show()"
   ]
  }
 ],
 "metadata": {
  "kernelspec": {
   "display_name": "Python 3",
   "language": "python",
   "name": "python3"
  },
  "language_info": {
   "codemirror_mode": {
    "name": "ipython",
    "version": 3
   },
   "file_extension": ".py",
   "mimetype": "text/x-python",
   "name": "python",
   "nbconvert_exporter": "python",
   "pygments_lexer": "ipython3",
   "version": "3.6.8"
  }
 },
 "nbformat": 4,
 "nbformat_minor": 2
}
