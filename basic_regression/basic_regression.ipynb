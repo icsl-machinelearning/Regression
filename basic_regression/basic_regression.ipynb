{
 "cells": [
  {
   "cell_type": "code",
   "execution_count": 1,
   "metadata": {
    "scrolled": true
   },
   "outputs": [
    {
     "data": {
      "text/html": [
       "<iframe id=\"test\" name=\"id_name\" width=\"950\" height=\"600\" frameborder=\"0\" marginwidth=\"0\" marginheight=\"0\" scrolling=\"yes\" src=\"https://cpuu.postype.com/post/161789\"></iframe>\n"
      ],
      "text/plain": [
       "<IPython.core.display.HTML object>"
      ]
     },
     "metadata": {},
     "output_type": "display_data"
    }
   ],
   "source": [
    "%%HTML\n",
    "<iframe id=\"test\" name=\"id_name\" width=\"950\" height=\"600\" frameborder=\"0\" marginwidth=\"0\" marginheight=\"0\" scrolling=\"yes\" src=\"https://cpuu.postype.com/post/161789\"></iframe>"
   ]
  },
  {
   "cell_type": "code",
   "execution_count": 2,
   "metadata": {},
   "outputs": [],
   "source": [
    "import tensorflow as tf\n",
    "import matplotlib.pyplot as plt\n",
    "##보통 데이터 종류가 많음. 여기에서는 임의로 10개의 데이터를 줌.\n",
    "x_data = [4.0391, 1.3197, 9.5613, 0.5978, 3.5316, 0.1540, 1.6899, 7.3172, 4.5092, 2.9632]\n",
    "y_data = [11.4215, 10.0112, 30.2991, 1.0625, 13.1776, -3.1976, 6.7367, 23.8550, 14.8951, 11.6137]\n",
    "\n",
    "##사람이 정답의 대략적인 범위를 추정할 수 있는 경우에 문제를 풀이하기 쉽도록(노가다 횟수 줄이도록)...\n",
    "##변수의 범위를 지정할수 있음. 우리가 구하고자하는 값 W, b\n",
    "##초기값으로 -5~ 5 사이에서 랜덤\n",
    "W = tf.Variable(tf.random_uniform([1], -5.0, 5.0))\n",
    "b = tf.Variable(tf.random_uniform([1], -5.0, 5.0))\n",
    "\n",
    "##placeholer형, 선언과 동시에 초기화 되는 것이 아니라 선언 후 값이 전달되는 자료형\n",
    "##보통 입력값을 말한다.\n",
    "##다른 텐서(Tensor)를 placeholer에 맵핑시킴으로써 값이 전달된다.\n",
    "X = tf.placeholder(tf.float32)\n",
    "Y = tf.placeholder(tf.float32)\n",
    "\n",
    "##가설(1차방정식)\n",
    "hypothesis = W * X + b\n",
    "\n",
    "##최소제곱법, reduce_mean 과 mean의 차이- mean은 결과데이터의 형태 지정함.\n",
    "##defualt형태는 float64형태, 그러나 reduce_mean의 경우 입력 데이터의 형태에 따라\n",
    "##바뀐다\n",
    "## x = tf.constant([1, 0, 1, 0])\n",
    "## tf.reduce_mean(x)  # 0\n",
    "## y = tf.constant([1., 0., 1., 0.])\n",
    "## tf.reduce_mean(y)  # 0.5\n",
    "cost = tf.reduce_mean(tf.square(hypothesis - Y))"
   ]
  },
  {
   "cell_type": "code",
   "execution_count": 3,
   "metadata": {},
   "outputs": [
    {
     "name": "stdout",
     "output_type": "stream",
     "text": [
      "Tensor(\"add:0\", dtype=float32)\n",
      "<tf.Variable 'Variable:0' shape=(1,) dtype=float32_ref>\n",
      "<tf.Variable 'Variable_1:0' shape=(1,) dtype=float32_ref>\n",
      "Tensor(\"Placeholder:0\", dtype=float32)\n",
      "Tensor(\"Placeholder_1:0\", dtype=float32)\n",
      "Tensor(\"Mean:0\", shape=(), dtype=float32)\n",
      "Tensor(\"random_uniform:0\", shape=(1,), dtype=float32)\n"
     ]
    }
   ],
   "source": [
    "#자료형 확인\n",
    "print(hypothesis)\n",
    "print(W)\n",
    "print(b)\n",
    "print(X)\n",
    "print(Y)\n",
    "print(cost)\n",
    "print(W.initial_value)"
   ]
  },
  {
   "cell_type": "code",
   "execution_count": 4,
   "metadata": {},
   "outputs": [],
   "source": [
    "##Learning rate 0.01로 할당\n",
    "#a = tf.Variable(0.01)\n",
    "a=tf.constant(0.01)\n",
    "\n",
    "##train = tf.train.GradientDescentOptimizer(a).minimize(cost)로 줄여서 사용가능\n",
    "optimizer = tf.train.GradientDescentOptimizer(a)\n",
    "train = optimizer.minimize(cost)\n",
    "\n",
    "#init은 모든 variable=텐서를 가리키는 노드(operation) 집합.\n",
    "##tf.initialize_all_variables will be removed after 2017-03-02.\n",
    "##Use `tf.global_variables_initializer` instead.\n",
    "#init = tf.initialize_all_variables()\n",
    "init = tf.global_variables_initializer()\n",
    "\n",
    "\n",
    "##Session에서 연산 끝났으면, 자원을 시스템에 돌려주기 위하여 sess.close()를 통해 닫아야함.\n",
    "## with tf.Session() as sess:로 대체 가능하고 이경우 자동으로 세션 닫힘.\n",
    "##with tf.Session() as sess:\n",
    "##  result = sess.run([product])\n",
    "##  print(result)\n",
    "\n",
    "##Session에 () 빈칸이 옴(아무 파라미터도 넘기지 않음)--> 기본 로컬세션에서 수행됨.\n",
    "##즉, 세션을 실행하자마자, 모든 tf.variable 인스턴스들이 호출되어 초기화됨.\n",
    "sess = tf.Session()\n",
    "\n",
    "\n",
    "##텐서플로우에서 변수형 variable은 그래프를 실행하기 전에 초기화를 해줘야 그 값이 변수에\n",
    "##지정이 된다. 따라서 세션을 초기화하는 순간 W,b에 값이 지정됨.\n",
    "sess.run(init)"
   ]
  },
  {
   "cell_type": "code",
   "execution_count": 5,
   "metadata": {},
   "outputs": [
    {
     "name": "stdout",
     "output_type": "stream",
     "text": [
      "0 305.02948 [-1.098252] [3.5609274]\n",
      "20 9.296486 [2.641731] [3.7041664]\n",
      "40 8.362696 [2.716285] [3.278079]\n",
      "60 7.6723137 [2.7803464] [2.9117022]\n",
      "80 7.161888 [2.835429] [2.5966744]\n",
      "100 6.784513 [2.8827915] [2.325799]\n",
      "120 6.505507 [2.923516] [2.092888]\n",
      "140 6.299226 [2.958533] [1.89262]\n",
      "160 6.146716 [2.9886422] [1.7204202]\n",
      "180 6.0339584 [3.0145316] [1.5723547]\n",
      "200 5.9505944 [3.0367923] [1.4450411]\n",
      "220 5.888961 [3.0559332] [1.3355709]\n",
      "240 5.8433905 [3.0723913] [1.2414435]\n",
      "260 5.809701 [3.0865428] [1.1605085]\n",
      "280 5.784793 [3.098711] [1.0909166]\n",
      "300 5.7663755 [3.1091738] [1.0310783]\n",
      "320 5.752761 [3.11817] [0.97962666]\n",
      "340 5.742694 [3.1259058] [0.935386]\n",
      "360 5.7352514 [3.132557] [0.89734584]\n",
      "380 5.729749 [3.138276] [0.8646373]\n",
      "400 5.7256804 [3.1431935] [0.8365129]\n",
      "420 5.722673 [3.1474218] [0.8123303]\n",
      "440 5.720449 [3.1510575] [0.79153687]\n",
      "460 5.7188044 [3.1541839] [0.77365774]\n",
      "480 5.7175894 [3.1568718] [0.7582844]\n",
      "500 5.716691 [3.1591833] [0.7450657]\n",
      "520 5.716026 [3.1611705] [0.7336996]\n",
      "540 5.715535 [3.1628792] [0.72392654]\n",
      "560 5.715172 [3.1643486] [0.71552324]\n",
      "580 5.7149043 [3.165612] [0.70829767]\n",
      "600 5.7147055 [3.1666985] [0.7020849]\n",
      "620 5.714558 [3.1676323] [0.69674265]\n",
      "640 5.7144504 [3.1684358] [0.6921492]\n",
      "660 5.7143703 [3.1691263] [0.6881995]\n",
      "680 5.7143106 [3.1697202] [0.68480337]\n",
      "700 5.7142663 [3.1702306] [0.6818833]\n",
      "720 5.714234 [3.1706696] [0.6793723]\n",
      "740 5.7142096 [3.1710472] [0.6772134]\n",
      "760 5.714193 [3.1713717] [0.675357]\n",
      "780 5.714179 [3.1716506] [0.67376095]\n",
      "800 5.7141695 [3.1718907] [0.6723885]\n",
      "820 5.714162 [3.1720972] [0.6712083]\n",
      "840 5.7141566 [3.1722746] [0.6701937]\n",
      "860 5.714153 [3.1724272] [0.66932106]\n",
      "880 5.71415 [3.1725583] [0.668571]\n",
      "900 5.7141485 [3.172671] [0.667926]\n",
      "920 5.7141466 [3.172768] [0.66737133]\n",
      "940 5.714145 [3.1728513] [0.66689444]\n",
      "960 5.7141447 [3.172923] [0.66648436]\n",
      "980 5.7141438 [3.1729848] [0.6661319]\n",
      "1000 5.7141433 [3.1730378] [0.6658287]\n",
      "1020 5.714143 [3.1730833] [0.66556805]\n",
      "1040 5.714143 [3.1731226] [0.66534394]\n",
      "1060 5.7141433 [3.1731563] [0.6651513]\n",
      "1080 5.714143 [3.1731853] [0.66498566]\n",
      "1100 5.714143 [3.1732101] [0.664843]\n",
      "1120 5.714142 [3.1732314] [0.6647204]\n",
      "1140 5.7141423 [3.17325] [0.6646151]\n",
      "1160 5.7141423 [3.1732657] [0.6645245]\n",
      "1180 5.7141423 [3.1732795] [0.66444665]\n",
      "1200 5.714141 [3.173291] [0.6643795]\n",
      "1220 5.714142 [3.1733012] [0.66432196]\n",
      "1240 5.7141423 [3.17331] [0.66427237]\n",
      "1260 5.714142 [3.1733174] [0.66422963]\n",
      "1280 5.7141423 [3.1733236] [0.66419315]\n",
      "1300 5.7141423 [3.173329] [0.6641618]\n",
      "1320 5.714142 [3.173334] [0.6641349]\n",
      "1340 5.7141423 [3.1733382] [0.6641116]\n",
      "1360 5.714142 [3.1733415] [0.66409135]\n",
      "1380 5.714143 [3.1733444] [0.6640741]\n",
      "1400 5.7141423 [3.173347] [0.6640593]\n",
      "1420 5.714142 [3.1733491] [0.6640467]\n",
      "1440 5.714142 [3.1733513] [0.66403574]\n",
      "1460 5.714143 [3.173353] [0.6640263]\n",
      "1480 5.714143 [3.1733541] [0.6640183]\n",
      "1500 5.714142 [3.1733556] [0.66401136]\n",
      "1520 5.7141423 [3.1733565] [0.6640054]\n",
      "1540 5.714142 [3.1733572] [0.66400045]\n",
      "1560 5.7141414 [3.1733582] [0.66399604]\n",
      "1580 5.714142 [3.173359] [0.66399246]\n",
      "1600 5.714142 [3.1733592] [0.66398907]\n",
      "1620 5.714143 [3.1733596] [0.6639867]\n",
      "1640 5.714143 [3.17336] [0.6639843]\n",
      "1660 5.714142 [3.1733603] [0.6639821]\n",
      "1680 5.7141414 [3.1733608] [0.6639807]\n",
      "1700 5.714142 [3.1733608] [0.66397953]\n",
      "1720 5.714143 [3.173361] [0.66397834]\n",
      "1740 5.714142 [3.1733613] [0.66397715]\n",
      "1760 5.7141423 [3.1733615] [0.66397595]\n",
      "1780 5.7141414 [3.1733618] [0.66397476]\n",
      "1800 5.714142 [3.1733618] [0.6639742]\n",
      "1820 5.714142 [3.1733618] [0.6639742]\n",
      "1840 5.714142 [3.1733618] [0.6639742]\n",
      "1860 5.714142 [3.1733618] [0.6639742]\n",
      "1880 5.714142 [3.1733618] [0.6639742]\n",
      "1900 5.714142 [3.1733618] [0.6639742]\n",
      "1920 5.714142 [3.1733618] [0.6639742]\n",
      "1940 5.714142 [3.1733618] [0.6639742]\n",
      "1960 5.714142 [3.1733618] [0.6639742]\n",
      "1980 5.714142 [3.1733618] [0.6639742]\n",
      "2000 5.714142 [3.1733618] [0.6639742]\n",
      "When X=5, hypothesis = [16.530783]\n"
     ]
    }
   ],
   "source": [
    "#feed_dict를 통해 본인이 지정하는 특정한 값을 파라미터로 전달해줄수 있음.\n",
    "#실행할 노드는 train이고, 입력값으로 x_data, y_daya를 넣음.\n",
    "for step in range(2001):\n",
    "    sess.run(train, feed_dict={X:x_data, Y:y_data})\n",
    "    if step % 20 == 0:\n",
    "         print(step, sess.run(cost, feed_dict={X:x_data, Y:y_data}), sess.run(W), sess.run(b))\n",
    "\n",
    "##평가,실행할 노드는 hypothesis이고, x는 5를 대입.\n",
    "answer = sess.run(hypothesis, feed_dict={X:5})\n",
    "print('When X=5, hypothesis = ' + str(answer))"
   ]
  },
  {
   "cell_type": "code",
   "execution_count": 6,
   "metadata": {},
   "outputs": [
    {
     "data": {
      "image/png": "[encoded data removed]",
      "text/plain": [
       "<Figure size 432x288 with 1 Axes>"
      ]
     },
     "metadata": {
      "needs_background": "light"
     },
     "output_type": "display_data"
    }
   ],
   "source": [
    "# Show the linear regression result\n",
    "plt.figure(1)\n",
    "plt.title('Linear Regression')\n",
    "plt.xlabel('x')\n",
    "plt.ylabel('y')\n",
    "# 주어진 데이터들을 점으로 표시\n",
    "plt.plot(x_data, y_data, 'ro')\n",
    "# 예측한 일차함수를 직선으로 표시\n",
    "plt.plot(x_data, sess.run(W) * x_data + sess.run(b), 'b')\n",
    "# X=5 일때의 계산 값\n",
    "plt.plot([5], answer, 'go')\n",
    "plt.show()"
   ]
  }
 ],
 "metadata": {
  "kernelspec": {
   "display_name": "Python 3",
   "language": "python",
   "name": "python3"
  },
  "language_info": {
   "codemirror_mode": {
    "name": "ipython",
    "version": 3
   },
   "file_extension": ".py",
   "mimetype": "text/x-python",
   "name": "python",
   "nbconvert_exporter": "python",
   "pygments_lexer": "ipython3",
   "version": "3.6.8"
  }
 },
 "nbformat": 4,
 "nbformat_minor": 2
}
