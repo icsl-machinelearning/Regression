{
 "cells": [
  {
   "cell_type": "code",
   "execution_count": 1,
   "metadata": {
    "scrolled": true
   },
   "outputs": [
    {
     "data": {
      "text/html": [
       "<iframe id=\"test\" name=\"id_name\" width=\"950\" height=\"600\" frameborder=\"0\" marginwidth=\"0\" marginheight=\"0\" scrolling=\"yes\" src=\"https://cpuu.postype.com/post/161789\"></iframe>\n"
      ],
      "text/plain": [
       "<IPython.core.display.HTML object>"
      ]
     },
     "metadata": {},
     "output_type": "display_data"
    }
   ],
   "source": [
    "%%HTML\n",
    "<iframe id=\"test\" name=\"id_name\" width=\"950\" height=\"600\" frameborder=\"0\" marginwidth=\"0\" marginheight=\"0\" scrolling=\"yes\" src=\"https://cpuu.postype.com/post/161789\"></iframe>"
   ]
  },
  {
   "cell_type": "code",
   "execution_count": 2,
   "metadata": {},
   "outputs": [],
   "source": [
    "import tensorflow as tf\n",
    "import matplotlib.pyplot as plt\n",
    "##보통 데이터 종류가 많음. 여기에서는 임의로 10개의 데이터를 줌.\n",
    "x_data = [4.0391, 1.3197, 9.5613, 0.5978, 3.5316, 0.1540, 1.6899, 7.3172, 4.5092, 2.9632]\n",
    "y_data = [11.4215, 10.0112, 30.2991, 1.0625, 13.1776, -3.1976, 6.7367, 23.8550, 14.8951, 11.6137]\n",
    "\n",
    "##사람이 정답의 대략적인 범위를 추정할 수 있는 경우에 문제를 풀이하기 쉽도록(노가다 횟수 줄이도록)...\n",
    "##변수의 범위를 지정할수 있음. 우리가 구하고자하는 값 W, b\n",
    "##초기값으로 -5~ 5 사이에서 랜덤\n",
    "W = tf.Variable(tf.random_uniform([1], -5.0, 5.0))\n",
    "b = tf.Variable(tf.random_uniform([1], -5.0, 5.0))\n",
    "\n",
    "##placeholer형, 선언과 동시에 초기화 되는 것이 아니라 선언 후 값이 전달되는 자료형\n",
    "##보통 입력값을 말한다.\n",
    "##다른 텐서(Tensor)를 placeholer에 맵핑시킴으로써 값이 전달된다.\n",
    "X = tf.placeholder(tf.float32)\n",
    "Y = tf.placeholder(tf.float32)\n",
    "\n",
    "##가설(1차방정식)\n",
    "hypothesis = W * X + b\n",
    "\n",
    "##최소제곱법, reduce_mean 과 mean의 차이- mean은 결과데이터의 형태 지정함.\n",
    "##defualt형태는 float64형태, 그러나 reduce_mean의 경우 입력 데이터의 형태에 따라\n",
    "##바뀐다\n",
    "## x = tf.constant([1, 0, 1, 0])\n",
    "## tf.reduce_mean(x)  # 0\n",
    "## y = tf.constant([1., 0., 1., 0.])\n",
    "## tf.reduce_mean(y)  # 0.5\n",
    "cost = tf.reduce_mean(tf.square(hypothesis - Y))"
   ]
  },
  {
   "cell_type": "code",
   "execution_count": 3,
   "metadata": {},
   "outputs": [
    {
     "name": "stdout",
     "output_type": "stream",
     "text": [
      "Tensor(\"add:0\", dtype=float32)\n",
      "<tf.Variable 'Variable:0' shape=(1,) dtype=float32_ref>\n",
      "Tensor(\"Placeholder_1:0\", dtype=float32)\n",
      "<tf.Variable 'Variable:0' shape=(1,) dtype=float32_ref>\n",
      "Tensor(\"Mean:0\", shape=(), dtype=float32)\n"
     ]
    }
   ],
   "source": [
    "#자료형 확인\n",
    "print(hypothesis)\n",
    "print(W)\n",
    "print(Y)\n",
    "print(W)\n",
    "print(cost)"
   ]
  },
  {
   "cell_type": "code",
   "execution_count": 4,
   "metadata": {},
   "outputs": [],
   "source": [
    "##Learning rate 0.01로 할당\n",
    "#a = tf.Variable(0.01)\n",
    "a=tf.constant(0.01)\n",
    "\n",
    "##train = tf.train.GradientDescentOptimizer(a).minimize(cost)로 줄여서 사용가능\n",
    "optimizer = tf.train.GradientDescentOptimizer(a)\n",
    "train = optimizer.minimize(cost)\n",
    "\n",
    "global_step_tensor= tf.Variable(0, trainable=False, name='global_step')\n",
    "#init은 모든 variable=텐서를 가리키는 노드(operation) 집합.\n",
    "##tf.initialize_all_variables will be removed after 2017-03-02.\n",
    "##Use `tf.global_variables_initializer` instead.\n",
    "#init = tf.initialize_all_variables()\n",
    "init = tf.global_variables_initializer()\n",
    "\n",
    "\n"
   ]
  },
  {
   "cell_type": "code",
   "execution_count": 5,
   "metadata": {
    "scrolled": true
   },
   "outputs": [
    {
     "name": "stdout",
     "output_type": "stream",
     "text": [
      "INFO:tensorflow:Summary name Variable:0 is illegal; using Variable_0 instead.\n",
      "INFO:tensorflow:Summary name Variable_1:0 is illegal; using Variable_1_0 instead.\n"
     ]
    },
    {
     "data": {
      "text/plain": [
       "<tf.Tensor 'Variable_1_0:0' shape=() dtype=string>"
      ]
     },
     "execution_count": 5,
     "metadata": {},
     "output_type": "execute_result"
    }
   ],
   "source": [
    "# tf.summary.scalar(X.name, X)\n",
    "# tf.summary.scalar(Y.name, Y)\n",
    "#variable\n",
    "# tf.summary.histogram('weight_name', histogram)\n",
    "tf.summary.histogram(W.name, W)\n",
    "tf.summary.histogram(b.name, b)\n"
   ]
  },
  {
   "cell_type": "code",
   "execution_count": 6,
   "metadata": {},
   "outputs": [],
   "source": [
    "merged = tf.summary.merge_all()"
   ]
  },
  {
   "cell_type": "code",
   "execution_count": 7,
   "metadata": {},
   "outputs": [],
   "source": [
    "##Session에서 연산 끝났으면, 자원을 시스템에 돌려주기 위하여 sess.close()를 통해 닫아야함.\n",
    "## with tf.Session() as sess:로 대체 가능하고 이경우 자동으로 세션 닫힘.\n",
    "##with tf.Session() as sess:\n",
    "##  result = sess.run([product])\n",
    "##  print(result)\n",
    "\n",
    "##Session에 () 빈칸이 옴(아무 파라미터도 넘기지 않음)--> 기본 로컬세션에서 수행됨.\n",
    "##즉, 세션을 실행하자마자, 모든 tf.variable 인스턴스들이 호출되어 초기화됨.\n",
    "sess = tf.Session()\n",
    "\n",
    "writer = tf.summary.FileWriter('./logs/basic_regression',sess.graph)\n",
    "\n",
    "\n",
    "##텐서플로우에서 변수형 variable은 그래프를 실행하기 전에 초기화를 해줘야 그 값이 변수에\n",
    "##지정이 된다. 따라서 세션을 초기화하는 순간 W,b에 값이 지정됨.\n",
    "sess.run(init)\n",
    "global_step = tf.train.global_step(sess,global_step_tensor)"
   ]
  },
  {
   "cell_type": "code",
   "execution_count": 8,
   "metadata": {},
   "outputs": [
    {
     "name": "stdout",
     "output_type": "stream",
     "text": [
      "0 11.669245 [2.3906944] [2.4452014]\n",
      "20 6.706755 [2.8935385] [2.264298]\n",
      "40 6.448018 [2.9327621] [2.0400076]\n",
      "60 6.256722 [2.9664834] [1.8471509]\n",
      "80 6.1152916 [2.9954782] [1.6813236]\n",
      "100 6.010726 [3.0204093] [1.5387379]\n",
      "120 5.9334173 [3.0418465] [1.4161357]\n",
      "140 5.87626 [3.060279] [1.3107166]\n",
      "160 5.834002 [3.076128] [1.2200725]\n",
      "180 5.8027587 [3.089756] [1.1421328]\n",
      "200 5.7796597 [3.1014738] [1.0751164]\n",
      "220 5.762582 [3.1115491] [1.0174927]\n",
      "240 5.7499547 [3.1202126] [0.9679449]\n",
      "260 5.7406206 [3.127662] [0.92534167]\n",
      "280 5.733718 [3.134067] [0.8887093]\n",
      "300 5.728615 [3.1395745] [0.85721105]\n",
      "320 5.724842 [3.14431] [0.8301275]\n",
      "340 5.7220526 [3.148382] [0.8068397]\n",
      "360 5.7199917 [3.1518831] [0.7868159]\n",
      "380 5.7184668 [3.1548936] [0.7695984]\n",
      "400 5.7173395 [3.1574821] [0.7547941]\n",
      "420 5.7165055 [3.1597078] [0.74206454]\n",
      "440 5.71589 [3.1616218] [0.7311191]\n",
      "460 5.715434 [3.1632674] [0.72170764]\n",
      "480 5.715097 [3.1646821] [0.7136156]\n",
      "500 5.7148485 [3.1658988] [0.7066572]\n",
      "520 5.714664 [3.166945] [0.70067436]\n",
      "540 5.714528 [3.1678445] [0.6955299]\n",
      "560 5.714427 [3.168618] [0.6911065]\n",
      "580 5.7143536 [3.1692832] [0.687303]\n",
      "600 5.7142982 [3.1698549] [0.6840326]\n",
      "620 5.7142572 [3.1703465] [0.6812204]\n",
      "640 5.7142277 [3.1707692] [0.67880255]\n",
      "660 5.714205 [3.1711328] [0.6767235]\n",
      "680 5.7141886 [3.1714454] [0.6749359]\n",
      "700 5.714177 [3.171714] [0.6733988]\n",
      "720 5.714167 [3.171945] [0.67207706]\n",
      "740 5.7141614 [3.172144] [0.67094064]\n",
      "760 5.714156 [3.1723146] [0.66996336]\n",
      "780 5.7141523 [3.1724615] [0.6691233]\n",
      "800 5.7141504 [3.172588] [0.6684008]\n",
      "820 5.714147 [3.1726966] [0.6677794]\n",
      "840 5.714146 [3.17279] [0.6672452]\n",
      "860 5.714145 [3.1728704] [0.6667861]\n",
      "880 5.7141447 [3.1729393] [0.6663912]\n",
      "900 5.714144 [3.172999] [0.66605175]\n",
      "920 5.7141433 [3.1730497] [0.6657598]\n",
      "940 5.7141433 [3.1730938] [0.66550875]\n",
      "960 5.7141423 [3.1731315] [0.665293]\n",
      "980 5.714143 [3.173164] [0.6651075]\n",
      "1000 5.714142 [3.1731918] [0.6649479]\n",
      "1020 5.714142 [3.1732156] [0.6648106]\n",
      "1040 5.7141423 [3.1732364] [0.6646926]\n",
      "1060 5.7141423 [3.173254] [0.66459113]\n",
      "1080 5.7141414 [3.1732693] [0.66450393]\n",
      "1100 5.7141423 [3.1732824] [0.6644289]\n",
      "1120 5.714142 [3.1732938] [0.6643643]\n",
      "1140 5.714142 [3.1733036] [0.66430885]\n",
      "1160 5.714143 [3.173312] [0.66426104]\n",
      "1180 5.7141423 [3.1733189] [0.66422]\n",
      "1200 5.7141414 [3.173325] [0.6641849]\n",
      "1220 5.714143 [3.1733303] [0.6641547]\n",
      "1240 5.7141414 [3.173335] [0.6641287]\n",
      "1260 5.714141 [3.1733391] [0.66410625]\n",
      "1280 5.714142 [3.1733425] [0.6640869]\n",
      "1300 5.714142 [3.1733453] [0.66407025]\n",
      "1320 5.714142 [3.1733477] [0.664056]\n",
      "1340 5.714142 [3.1733499] [0.6640438]\n",
      "1360 5.7141423 [3.1733515] [0.6640333]\n",
      "1380 5.714142 [3.1733532] [0.66402423]\n",
      "1400 5.7141423 [3.1733546] [0.6640165]\n",
      "1420 5.714142 [3.1733556] [0.66400987]\n",
      "1440 5.7141423 [3.1733568] [0.664004]\n",
      "1460 5.714142 [3.1733575] [0.66399926]\n",
      "1480 5.7141414 [3.1733582] [0.66399515]\n",
      "1500 5.7141423 [3.173359] [0.6639916]\n",
      "1520 5.714142 [3.1733594] [0.6639885]\n",
      "1540 5.7141423 [3.1733599] [0.6639861]\n",
      "1560 5.714141 [3.17336] [0.6639837]\n",
      "1580 5.7141423 [3.1733606] [0.6639818]\n",
      "1600 5.7141414 [3.1733608] [0.6639804]\n",
      "1620 5.714142 [3.173361] [0.66397923]\n",
      "1640 5.7141423 [3.1733613] [0.66397804]\n",
      "1660 5.7141423 [3.1733613] [0.66397685]\n",
      "1680 5.714142 [3.1733615] [0.66397566]\n",
      "1700 5.714142 [3.1733618] [0.66397446]\n",
      "1720 5.714142 [3.1733618] [0.6639742]\n",
      "1740 5.714142 [3.1733618] [0.6639742]\n",
      "1760 5.714142 [3.1733618] [0.6639742]\n",
      "1780 5.714142 [3.1733618] [0.6639742]\n",
      "1800 5.714142 [3.1733618] [0.6639742]\n",
      "1820 5.714142 [3.1733618] [0.6639742]\n",
      "1840 5.714142 [3.1733618] [0.6639742]\n",
      "1860 5.714142 [3.1733618] [0.6639742]\n",
      "1880 5.714142 [3.1733618] [0.6639742]\n",
      "1900 5.714142 [3.1733618] [0.6639742]\n",
      "1920 5.714142 [3.1733618] [0.6639742]\n",
      "1940 5.714142 [3.1733618] [0.6639742]\n",
      "1960 5.714142 [3.1733618] [0.6639742]\n",
      "1980 5.714142 [3.1733618] [0.6639742]\n",
      "2000 5.714142 [3.1733618] [0.6639742]\n",
      "When X=5, hypothesis = [16.530783]\n"
     ]
    }
   ],
   "source": [
    "#feed_dict를 통해 본인이 지정하는 특정한 값을 파라미터로 전달해줄수 있음.\n",
    "#실행할 노드는 train이고, 입력값으로 x_data, y_daya를 넣음.\n",
    "for step in range(2001):\n",
    "    sess.run(train, feed_dict={X:x_data, Y:y_data})\n",
    "    summary = sess.run(merged)\n",
    "    writer.add_summary(summary, global_step)\n",
    "    global_step +=1\n",
    "    if step % 20 == 0:\n",
    "        print(step, sess.run(cost, feed_dict={X:x_data, Y:y_data}), sess.run(W), sess.run(b))\n",
    "\n",
    "##평가,실행할 노드는 hypothesis이고, x는 5를 대입.\n",
    "answer = sess.run(hypothesis, feed_dict={X:5})\n",
    "print('When X=5, hypothesis = ' + str(answer))"
   ]
  },
  {
   "cell_type": "code",
   "execution_count": 9,
   "metadata": {},
   "outputs": [
    {
     "data": {
      "image/png": "[encoded data removed]",
      "text/plain": [
       "<Figure size 432x288 with 1 Axes>"
      ]
     },
     "metadata": {
      "needs_background": "light"
     },
     "output_type": "display_data"
    }
   ],
   "source": [
    "# Show the linear regression result\n",
    "plt.figure(1)\n",
    "plt.title('Linear Regression')\n",
    "plt.xlabel('x')\n",
    "plt.ylabel('y')\n",
    "# 주어진 데이터들을 점으로 표시\n",
    "plt.plot(x_data, y_data, 'ro')\n",
    "# 예측한 일차함수를 직선으로 표시\n",
    "plt.plot(x_data, sess.run(W) * x_data + sess.run(b), 'b')\n",
    "# X=5 일때의 계산 값\n",
    "plt.plot([5], answer, 'go')\n",
    "plt.show()"
   ]
  }
 ],
 "metadata": {
  "kernelspec": {
   "display_name": "Python 3",
   "language": "python",
   "name": "python3"
  },
  "language_info": {
   "codemirror_mode": {
    "name": "ipython",
    "version": 3
   },
   "file_extension": ".py",
   "mimetype": "text/x-python",
   "name": "python",
   "nbconvert_exporter": "python",
   "pygments_lexer": "ipython3",
   "version": "3.6.8"
  }
 },
 "nbformat": 4,
 "nbformat_minor": 2
}
